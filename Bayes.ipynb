{
 "cells": [
  {
   "cell_type": "code",
   "execution_count": 28,
   "metadata": {},
   "outputs": [
    {
     "name": "stdout",
     "output_type": "stream",
     "text": [
      "0.032679738562091505 0.061002178649237467\n",
      "-1\n"
     ]
    }
   ],
   "source": [
    "#data\n",
    "import numpy as np\n",
    "X_1 = [1,1,1,1,1,2,2,2,2,2,3,3,3,3,3]\n",
    "X_2 = ['S','M','M','S','S','S','M','M','L','L','L','M','M','L','L']\n",
    "Y = [-1,-1,1,1,-1,-1,-1,1,1,1,1,1,1,1,-1]\n",
    "lamda=1\n",
    "K = len(np.unique(Y))\n",
    "# Numbers of Times the element appears \n",
    "def arraycounter (array1,array2,traget1,traget2):\n",
    "    temp1 = [i for i,v in enumerate(array1) if v==traget1]\n",
    "    temp2 = [i for i,v in enumerate(array2) if v==traget2]\n",
    "    tempsame = [i for i in temp1 if i in temp2]\n",
    "    return len(tempsame)\n",
    "#Conditional Probability\n",
    "def CondtionalP(x,y):\n",
    "    temp = [i for i, v in enumerate(Y) if v ==y]\n",
    "    p1 = (arraycounter(X_1,Y,x[0],y)+lamda)/(len(temp)+len(np.unique(X_1))*lamda)\n",
    "    p2 = (arraycounter(X_2,Y,x[1],y)+lamda)/(len(temp)+len(np.unique(X_1))*lamda)\n",
    "    p = p1*p2\n",
    "    return p\n",
    "#Priori probability\n",
    "def PrioriP (y):\n",
    "    temp = [i for i , v in enumerate(Y) if v==y]\n",
    "    N =len(Y)\n",
    "    p = (len(temp)+lamda)/(N+K*lamda)\n",
    "    return p\n",
    "def Bayes(x):\n",
    "    p1 = CondtionalP(x,1)*PrioriP(1)\n",
    "    p2 = CondtionalP(x,-1)*PrioriP(-1)\n",
    "    print(p1,p2)\n",
    "    if p1<=p2:\n",
    "        return -1\n",
    "    else:\n",
    "        return 1\n",
    "x =[2,'S']\n",
    "print(Bayes(x))"
   ]
  },
  {
   "cell_type": "code",
   "execution_count": null,
   "metadata": {},
   "outputs": [],
   "source": []
  }
 ],
 "metadata": {
  "kernelspec": {
   "display_name": "Python 3",
   "language": "python",
   "name": "python3"
  },
  "language_info": {
   "codemirror_mode": {
    "name": "ipython",
    "version": 3
   },
   "file_extension": ".py",
   "mimetype": "text/x-python",
   "name": "python",
   "nbconvert_exporter": "python",
   "pygments_lexer": "ipython3",
   "version": "3.7.3"
  }
 },
 "nbformat": 4,
 "nbformat_minor": 2
}
