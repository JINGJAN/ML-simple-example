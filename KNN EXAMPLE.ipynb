{
 "cells": [
  {
   "cell_type": "code",
   "execution_count": 71,
   "metadata": {},
   "outputs": [
    {
     "name": "stdout",
     "output_type": "stream",
     "text": [
      "(8, 2)\n",
      "[5 4 2 0 6 3 1 7]\n",
      "2\n",
      "1 A\n",
      "['A', 'A', 'A', 'A', 'B', 'B', 'B', 'B']\n",
      "5 B\n",
      "['B', 'B', 'B', 'B', 'A', 'A', 'A', 'A']\n",
      "4 B\n",
      "['B', 'B', 'B', 'B', 'A', 'A', 'A', 'A']\n",
      "2 A\n",
      "['B', 'B', 'A', 'B', 'A', 'A', 'A', 'A']\n",
      "0 A\n",
      "['B', 'B', 'A', 'A', 'A', 'A', 'A', 'A']\n",
      "6 B\n",
      "['B', 'B', 'A', 'A', 'B', 'A', 'A', 'A']\n",
      "3 A\n",
      "['B', 'B', 'A', 'A', 'B', 'A', 'A', 'A']\n",
      "1 A\n",
      "['B', 'B', 'A', 'A', 'B', 'A', 'A', 'A']\n",
      "7 B\n",
      "['B', 'B', 'A', 'A', 'B', 'A', 'A', 'B']\n",
      "['B', 'B', 'A', 'A', 'B', 'A', 'A', 'B']\n"
     ]
    },
    {
     "data": {
      "image/png": "[encoded data removed]",
      "text/plain": [
       "<Figure size 432x288 with 1 Axes>"
      ]
     },
     "metadata": {
      "needs_background": "light"
     },
     "output_type": "display_data"
    }
   ],
   "source": [
    "import numpy as np\n",
    "dataset = np.array([[1,2],[1,1],[1.5,2],[1.5,1],[5,5],[5,4],[6,5],[6,6]])\n",
    "label = ['A','A','A','A','B','B','B','B']\n",
    "print(dataset.shape)\n",
    "import matplotlib.pyplot as plt\n",
    "plt.scatter(dataset[:4,0],dataset[:4,1],s=20,marker='^',c='red')\n",
    "plt.scatter(dataset[4:,0],dataset[4:,1],s=20,marker='o',c='blue')\n",
    "def distance(a,b):\n",
    "    distance = np.sqrt(np.sum(np.square(a-b)))\n",
    "    return distance\n",
    "dis = np.zeros(dataset.shape[0])\n",
    "newpoint=np.array([3,4])\n",
    "plt.scatter(newpoint[0],newpoint[1])\n",
    "for i in range(dataset.shape[0]):\n",
    "    dis[i] = distance(newpoint,dataset[i])\n",
    "dis_argsort = dis.argsort() \n",
    "print(dis_argsort)\n",
    "print(dis_argsort[2])\n",
    "b = dis_argsort[6]\n",
    "c = label[b]\n",
    "print(b,c)\n",
    "def Labelsort (labelarray,argsort): \n",
    "    print(labelarray)\n",
    "    for i in range(len(argsort)):\n",
    "        newlabelarray[i] = labelarray[argsort[i]]\n",
    "        print(argsort[i],labelarray[argsort[i]])\n",
    "        print(newlabelarray)\n",
    "    return newlabelarray\n",
    "Newlabel=Labelsort(label,dis_argsort)\n",
    "print(Newlabel)\n",
    "    \n",
    "       \n",
    "   "
   ]
  },
  {
   "cell_type": "code",
   "execution_count": null,
   "metadata": {},
   "outputs": [],
   "source": []
  }
 ],
 "metadata": {
  "kernelspec": {
   "display_name": "Python 3",
   "language": "python",
   "name": "python3"
  },
  "language_info": {
   "codemirror_mode": {
    "name": "ipython",
    "version": 3
   },
   "file_extension": ".py",
   "mimetype": "text/x-python",
   "name": "python",
   "nbconvert_exporter": "python",
   "pygments_lexer": "ipython3",
   "version": "3.7.3"
  }
 },
 "nbformat": 4,
 "nbformat_minor": 2
}
