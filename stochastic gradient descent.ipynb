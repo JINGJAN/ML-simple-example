{
 "cells": [
  {
   "cell_type": "code",
   "execution_count": 127,
   "metadata": {},
   "outputs": [
    {
     "name": "stdout",
     "output_type": "stream",
     "text": [
      "[ 0.  0. -0.  0.]\n",
      "4\n",
      "0 [3. 3.] 1\n",
      "2 [2. 2.] 0\n",
      "2 [1. 1.] -1\n",
      "2 [0. 0.] -2\n",
      "0 [3. 3.] -1\n",
      "2 [2. 2.] -2\n",
      "2 [1. 1.] -3\n",
      "3 [3. 2.] -2\n",
      "2 [2. 1.] -3\n",
      "2 [1. 0.] -4\n",
      "0 [4. 3.] -3\n",
      "2 [3. 2.] -4\n",
      "2 [2. 1.] -5\n",
      "3 [4. 2.] -4\n",
      "2 [3. 1.] -5\n"
     ]
    },
    {
     "data": {
      "text/plain": [
       "[<matplotlib.lines.Line2D at 0x118343f60>]"
      ]
     },
     "execution_count": 127,
     "metadata": {},
     "output_type": "execute_result"
    },
    {
     "data": {
      "image/png": "[encoded data removed]",
      "text/plain": [
       "<Figure size 432x288 with 1 Axes>"
      ]
     },
     "metadata": {
      "needs_background": "light"
     },
     "output_type": "display_data"
    }
   ],
   "source": [
    "import numpy as np\n",
    "X =np.array([[3,3],[4,3],[1,1],[2,1]])\n",
    "[rows,cols]=X.shape\n",
    "#innite parameter\n",
    "w = np.zeros(2)\n",
    "b = 0\n",
    "alpha = 1\n",
    "#plot scatter \n",
    "import matplotlib.pyplot as plt\n",
    "plt.scatter(X[:,0],X[:,1],s=20)\n",
    "#y is the label data\n",
    "Y = np.array([1,1,-1,1])\n",
    "#update\n",
    "z = (np.dot(X,w.T)+b)*Y\n",
    "idx = np.where(z<=0)\n",
    "print(z)\n",
    "i = 0\n",
    "k = 0\n",
    "print(z[idx].size)\n",
    "while z[idx].size!=0 and i<=rows-1:\n",
    "    if (np.dot(X[i],w.T)+b)*Y[i]<=0:\n",
    "        w = w +Y[i]*X[i]\n",
    "        b = b +Y[i]\n",
    "        print(i,w,b)\n",
    "        i = 0;\n",
    "    else:\n",
    "        i=i+1\n",
    "x = np.arange(0,5,0.1)\n",
    "y = (x*w[0]+b)/(-w[1])\n",
    "plt.plot(x,y)\n"
   ]
  },
  {
   "cell_type": "code",
   "execution_count": null,
   "metadata": {},
   "outputs": [],
   "source": []
  },
  {
   "cell_type": "code",
   "execution_count": null,
   "metadata": {},
   "outputs": [],
   "source": []
  }
 ],
 "metadata": {
  "kernelspec": {
   "display_name": "Python 3",
   "language": "python",
   "name": "python3"
  },
  "language_info": {
   "codemirror_mode": {
    "name": "ipython",
    "version": 3
   },
   "file_extension": ".py",
   "mimetype": "text/x-python",
   "name": "python",
   "nbconvert_exporter": "python",
   "pygments_lexer": "ipython3",
   "version": "3.7.3"
  }
 },
 "nbformat": 4,
 "nbformat_minor": 2
}
